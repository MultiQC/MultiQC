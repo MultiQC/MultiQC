{
 "cells": [
  {
   "cell_type": "code",
   "execution_count": 1,
   "id": "ac4b2f61-6f3e-4b2c-9af3-c594cd5b6e65",
   "metadata": {
    "ExecuteTime": {
     "end_time": "2024-04-25T14:56:23.712010Z",
     "start_time": "2024-04-25T14:56:22.966960Z"
    }
   },
   "outputs": [],
   "source": [
    "import multiqc\n",
    "from collections import defaultdict\n",
    "from multiqc.plots import table"
   ]
  },
  {
   "cell_type": "code",
   "execution_count": 25,
   "outputs": [],
   "source": [
    "multiqc.reset()"
   ],
   "metadata": {
    "collapsed": false,
    "ExecuteTime": {
     "end_time": "2024-04-24T19:12:41.645971Z",
     "start_time": "2024-04-24T19:12:41.639053Z"
    }
   },
   "id": "86a7c00dd8822668"
  },
  {
   "cell_type": "code",
   "execution_count": 2,
   "id": "11f00727-cee9-48c0-95f6-d08663558c0a",
   "metadata": {
    "ExecuteTime": {
     "end_time": "2024-04-25T14:56:24.825267Z",
     "start_time": "2024-04-25T14:56:24.289972Z"
    }
   },
   "outputs": [
    {
     "name": "stdout",
     "output_type": "stream",
     "text": [
      "/// https://multiqc.info 🔍 | v1.22.dev0 (8f3e39a)\n",
      "\u001B[34m|       init_config\u001B[0m | Using log filenames for sample names\n",
      "\u001B[34m|       file_search\u001B[0m | Search path : /Users/vlad/tmp/nextflow/assembly\n",
      "\u001B[34m|       file_search\u001B[0m | Search path : /Users/vlad/tmp/nextflow/fastp\n",
      "\u001B[34m|       file_search\u001B[0m | Search path : /Users/vlad/tmp/nextflow/variants\n",
      "\u001B[34m|         searching \u001B[0m| ████████████████████████████████████████ 100% 10/10\n",
      "\u001B[34m|          cutadapt\u001B[0m | Found 1 reports\n",
      "\u001B[34m|             fastp\u001B[0m | Found 3 reports\n",
      "['Cutadapt', 'fastp']\n"
     ]
    }
   ],
   "source": [
    "multiqc.parse_logs(\n",
    "    [\n",
    "        \"/Users/vlad/tmp/nextflow/assembly\",\n",
    "        \"/Users/vlad/tmp/nextflow/fastp\",\n",
    "        \"/Users/vlad/tmp/nextflow/variants\",\n",
    "    ],\n",
    "    force=True\n",
    ")\n",
    "print(multiqc.list_modules())"
   ]
  },
  {
   "cell_type": "code",
   "execution_count": 3,
   "outputs": [
    {
     "data": {
      "text/plain": "['/Users/vlad/tmp/nextflow/assembly/cutadapt/log/SAMPLE2_PE.primer_trim.cutadapt.log',\n '/Users/vlad/tmp/nextflow/fastp/SAMPLE3_SE.fastp.json',\n '/Users/vlad/tmp/nextflow/fastp/SAMPLE1_PE.fastp.json',\n '/Users/vlad/tmp/nextflow/fastp/SAMPLE2_PE.fastp.json']"
     },
     "execution_count": 3,
     "metadata": {},
     "output_type": "execute_result"
    }
   ],
   "source": [
    "multiqc.list_data_sources()"
   ],
   "metadata": {
    "collapsed": false,
    "ExecuteTime": {
     "end_time": "2024-04-25T14:56:26.409170Z",
     "start_time": "2024-04-25T14:56:26.402487Z"
    }
   },
   "id": "6ea5fd6f81292872"
  },
  {
   "cell_type": "code",
   "execution_count": 4,
   "outputs": [
    {
     "name": "stdout",
     "output_type": "stream",
     "text": [
      "/// https://multiqc.info 🔍 | v1.22.dev0 (8f3e39a)\n",
      "\u001B[34m|       init_config\u001B[0m | Using log filenames for sample names\n",
      "\u001B[34m|       file_search\u001B[0m | Search path : /Users/vlad/tmp/nextflow/fastqc\n",
      "\u001B[34m|         searching \u001B[0m| ████████████████████████████████████████ 100% 16/16\n",
      "\u001B[34m|            fastqc\u001B[0m | Found 3 reports\n",
      "\u001B[34m|            fastqc\u001B[0m | Found 5 reports\n",
      "['Cutadapt', 'fastp', 'FastQC (trimmed)', 'FastQC (raw)']\n"
     ]
    }
   ],
   "source": [
    "multiqc.parse_logs(\n",
    "    \"/Users/vlad/tmp/nextflow/fastqc\",\n",
    "    module_order=[\n",
    "        dict(\n",
    "            fastqc=dict(\n",
    "                name=\"FastQC (trimmed)\",\n",
    "                anchor=\"fastqc_trimmed\",\n",
    "                info=\"This section of the report shows FastQC results after adapter trimming.\",\n",
    "                target=\"\",\n",
    "                path_filters=[\"*/trim/*\"],\n",
    "            )\n",
    "        ),\n",
    "        dict(\n",
    "            fastqc=dict(\n",
    "                name=\"FastQC (raw)\",\n",
    "                anchor=\"fastqc_raw\",\n",
    "                path_filters=[\"*/raw/*\"],\n",
    "            )\n",
    "        ),\n",
    "    ]\n",
    ")\n",
    "print(multiqc.list_modules())"
   ],
   "metadata": {
    "collapsed": false,
    "ExecuteTime": {
     "end_time": "2024-04-25T14:56:31.095619Z",
     "start_time": "2024-04-25T14:56:30.470679Z"
    }
   },
   "id": "40a1acc5e1ea172e"
  },
  {
   "cell_type": "code",
   "execution_count": 5,
   "outputs": [
    {
     "data": {
      "text/plain": "['/Users/vlad/tmp/nextflow/assembly/cutadapt/log/SAMPLE2_PE.primer_trim.cutadapt.log',\n '/Users/vlad/tmp/nextflow/fastp/SAMPLE3_SE.fastp.json',\n '/Users/vlad/tmp/nextflow/fastp/SAMPLE1_PE.fastp.json',\n '/Users/vlad/tmp/nextflow/fastp/SAMPLE2_PE.fastp.json',\n '/Users/vlad/tmp/nextflow/fastqc/trim/SAMPLE3_SE_fastqc.zip',\n '/Users/vlad/tmp/nextflow/fastqc/trim/SAMPLE2_PE_2_fastqc.zip',\n '/Users/vlad/tmp/nextflow/fastqc/trim/SAMPLE2_PE_1_fastqc.zip',\n '/Users/vlad/tmp/nextflow/fastqc/raw/SAMPLE1_PE_1_fastqc.zip',\n '/Users/vlad/tmp/nextflow/fastqc/raw/SAMPLE3_SE_fastqc.zip',\n '/Users/vlad/tmp/nextflow/fastqc/raw/SAMPLE2_PE_2_fastqc.zip',\n '/Users/vlad/tmp/nextflow/fastqc/raw/SAMPLE2_PE_1_fastqc.zip',\n '/Users/vlad/tmp/nextflow/fastqc/raw/SAMPLE1_PE_2_fastqc.zip']"
     },
     "execution_count": 5,
     "metadata": {},
     "output_type": "execute_result"
    }
   ],
   "source": [
    "multiqc.list_data_sources()"
   ],
   "metadata": {
    "collapsed": false,
    "ExecuteTime": {
     "end_time": "2024-04-25T14:56:32.646972Z",
     "start_time": "2024-04-25T14:56:32.644138Z"
    }
   },
   "id": "a645cb103cfdb11"
  },
  {
   "cell_type": "code",
   "execution_count": 6,
   "outputs": [
    {
     "name": "stdout",
     "output_type": "stream",
     "text": [
      "/// https://multiqc.info 🔍 | v1.22.dev0 (8f3e39a)\n",
      "\u001B[32m[2024-04-25 16:56:35]\u001B[0m \u001B[34mmultiqc.core.init_config                          \u001B[0m \u001B[1;30m[DEBUG  ]\u001B[0m  \u001B[2mThis is MultiQC v1.22.dev0 (8f3e39a)\u001B[0m\n",
      "\u001B[32m[2024-04-25 16:56:35]\u001B[0m \u001B[34mmultiqc.core.init_config                          \u001B[0m \u001B[1;30m[DEBUG  ]\u001B[0m  \u001B[2mCommand used: /Users/vlad/git/MultiQC/venv/lib/python3.12/site-packages/ipykernel_launcher.py -f /Users/vlad/Library/Jupyter/runtime/kernel-9368ebf4-92b2-4596-a56b-bf9595eed86a.json\u001B[0m\n",
      "\u001B[32m[2024-04-25 16:56:35]\u001B[0m \u001B[34mmultiqc.core.init_config                          \u001B[0m \u001B[1;30m[DEBUG  ]\u001B[0m  \u001B[2mLatest MultiQC version is v1.21, released 2024-02-28\u001B[0m\n",
      "\u001B[32m[2024-04-25 16:56:35]\u001B[0m \u001B[34mmultiqc.core.init_config                          \u001B[0m \u001B[1;30m[INFO   ]\u001B[0m  Using log filenames for sample names\n",
      "\u001B[32m[2024-04-25 16:56:35]\u001B[0m \u001B[34mmultiqc.core.init_config                          \u001B[0m \u001B[1;30m[DEBUG  ]\u001B[0m  \u001B[2mWorking dir : /Users/vlad/git/MultiQC/notebooks\u001B[0m\n",
      "\u001B[32m[2024-04-25 16:56:35]\u001B[0m \u001B[34mmultiqc.core.init_config                          \u001B[0m \u001B[1;30m[DEBUG  ]\u001B[0m  \u001B[2mTemplate    : default\u001B[0m\n",
      "\u001B[32m[2024-04-25 16:56:35]\u001B[0m \u001B[34mmultiqc.core.init_config                          \u001B[0m \u001B[1;30m[DEBUG  ]\u001B[0m  \u001B[2mRunning Python 3.12.2 (main, Feb  6 2024, 20:19:44) [Clang 15.0.0 (clang-1500.1.0.2.5)]\u001B[0m\n",
      "\u001B[32m[2024-04-25 16:56:35]\u001B[0m \u001B[34mmultiqc.core.file_search                          \u001B[0m \u001B[1;30m[DEBUG  ]\u001B[0m  \u001B[2mAnalysing modules: custom_content, ccs, ngsderive, purple, conpair, isoseq, lima, peddy, somalier, methylqa, mosdepth, phantompeakqualtools, qualimap, bamdst, preseq, hifiasm, quast, qorts, rna_seqc, rockhopper, rsem, rseqc, busco, bustools, goleft_indexcov, gffcompare, disambiguate, supernova, deeptools, sargasso, verifybamid, mirtrace, happy, mirtop, sambamba, gopeaks, homer, hops, macs2, theta2, snpeff, gatk, htseq, bcftools, featureCounts, fgbio, dragen, dragen_fastqc, dedup, pbmarkdup, damageprofiler, mapdamage, biobambam2, jcvi, mtnucratio, picard, vep, bakta, prokka, qc3C, nanostat, samblaster, samtools, sexdeterrmine, seqera_cli, eigenstratdatabasetools, bamtools, jellyfish, vcftools, longranger, stacks, varscan2, snippy, umitools, truvari, megahit, bbmap, bismark, biscuit, diamond, hicexplorer, hicup, hicpro, salmon, kallisto, slamdunk, star, hisat2, tophat, bowtie2, bowtie1, cellranger, snpsplit, odgi, pangolin, nextclade, freyja, humid, kat, leehom, librarian, nonpareil, adapterremoval, bbduk, clipandmerge, cutadapt, flexbar, sourmash, kaiju, bracken, kraken, malt, motus, trimmomatic, sickle, skewer, sortmerna, biobloomtools, fastq_screen, afterqc, fastp, fastqc, sequali, filtlong, prinseqplusplus, pychopper, porechop, pycoqc, minionqc, anglerfish, multivcfanalyzer, clusterflow, checkqc, bcl2fastq, bclconvert, interop, ivar, flash, seqyclean, optitype, whatshap, spaceranger, xenome, xengsort, metaphlan, seqwho\u001B[0m\n",
      "\u001B[32m[2024-04-25 16:56:35]\u001B[0m \u001B[34mmultiqc.core.file_search                          \u001B[0m \u001B[1;30m[INFO   ]\u001B[0m  Search path : /Users/vlad/tmp/nextflow/kraken2\n",
      "\u001B[34m|         searching \u001B[0m| ████████████████████████████████████████ 100% 2/2\n",
      "\u001B[32m[2024-04-25 16:56:35]\u001B[0m \u001B[34mmultiqc.utils.report                              \u001B[0m \u001B[1;30m[DEBUG  ]\u001B[0m  \u001B[2mSummary of files that were skipped by the search: ||\u001B[0m\n",
      "\u001B[32m[2024-04-25 16:56:35]\u001B[0m \u001B[34mmultiqc.core.exec_modules                         \u001B[0m \u001B[1;30m[DEBUG  ]\u001B[0m  \u001B[2mNo samples found: custom_content\u001B[0m\n",
      "\u001B[32m[2024-04-25 16:56:35]\u001B[0m \u001B[34mmultiqc.modules.kraken.kraken                     \u001B[0m \u001B[1;30m[INFO   ]\u001B[0m  Found 2 reports\n",
      "\u001B[32m[2024-04-25 16:56:35]\u001B[0m \u001B[34mmultiqc.utils.report                              \u001B[0m \u001B[1;30m[DEBUG  ]\u001B[0m  \u001B[2mWrote data file multiqc_kraken.txt\u001B[0m\n",
      "\u001B[32m[2024-04-25 16:56:35]\u001B[0m \u001B[34mmultiqc.utils.software_versions                   \u001B[0m \u001B[1;30m[DEBUG  ]\u001B[0m  \u001B[2mReading software versions from config.software_versions\u001B[0m\n",
      "['Cutadapt', 'fastp', 'FastQC (trimmed)', 'FastQC (raw)', 'Kraken']\n"
     ]
    }
   ],
   "source": [
    "multiqc.parse_logs(\n",
    "    \"/Users/vlad/tmp/nextflow/kraken2\",\n",
    "    verbose=True\n",
    ")\n",
    "print(multiqc.list_modules())"
   ],
   "metadata": {
    "collapsed": false,
    "ExecuteTime": {
     "end_time": "2024-04-25T14:56:35.555625Z",
     "start_time": "2024-04-25T14:56:35.333303Z"
    }
   },
   "id": "b2a0716671faddcd"
  },
  {
   "cell_type": "markdown",
   "source": [
    "Now add additional table to replace the general stats table"
   ],
   "metadata": {
    "collapsed": false
   },
   "id": "2fc2fe5cbb627314"
  },
  {
   "cell_type": "code",
   "execution_count": 7,
   "id": "f502a324-4dee-40c1-8233-7912240b4186",
   "metadata": {
    "ExecuteTime": {
     "end_time": "2024-04-25T14:56:39.786084Z",
     "start_time": "2024-04-25T14:56:39.766384Z"
    }
   },
   "outputs": [
    {
     "name": "stdout",
     "output_type": "stream",
     "text": [
      "{'SAMPLE1_PE': {'input_reads': 55442}, 'SAMPLE2_PE': {'input_reads': 42962}, 'SAMPLE3_SE': {'input_reads': 49202}}\n"
     ]
    }
   ],
   "source": [
    "summarized_data = defaultdict(dict)\n",
    "for s in multiqc.list_samples():\n",
    "    if data := multiqc.get_module_data(sample=s, module=\"fastp\"):\n",
    "        summarized_data[s][\"input_reads\"] = data[\"summary\"][\"before_filtering\"][\"total_reads\"]\n",
    "    if (data := multiqc.get_module_data(sample=s, module=\"Cutadapt\")) and \"r_written\" in data:\n",
    "        summarized_data[s][\"trimmed_reads\"] = data[\"r_written\"]\n",
    "    if (data := multiqc.get_general_stats_data(sample=s)) and \"pct_unclassified\" in data:\n",
    "        summarized_data[s][\"non_host_reads\"] = data[\"pct_unclassified\"]\n",
    "print(dict(summarized_data))"
   ]
  },
  {
   "cell_type": "code",
   "execution_count": 12,
   "id": "6eef829f-434e-4581-87f8-f059994bacb1",
   "metadata": {
    "ExecuteTime": {
     "end_time": "2024-04-25T14:57:26.152310Z",
     "start_time": "2024-04-25T14:57:26.133509Z"
    }
   },
   "outputs": [],
   "source": [
    "multiqc.add_custom_content_section(\n",
    "    plot=table.plot(\n",
    "        data=summarized_data,\n",
    "        headers={\n",
    "            \"input_reads\": {\n",
    "                \"title\": \"# Input reads\",\n",
    "                \"description\": \"Number of reads before filtering\",\n",
    "                \"scale\": False,\n",
    "                \"format\": \"{:,.0f}\",\n",
    "            },\n",
    "            \"trimmed_reads\": {\n",
    "                \"title\": \"# Trimmed reads (Cutadapt)\",\n",
    "                \"description\": \"Number of reads after adapter trimming\",\n",
    "                \"scale\": False,\n",
    "                \"format\": \"{:,.0f}\",\n",
    "            },\n",
    "            \"non_host_reads\": {\n",
    "                \"title\": \"% Non-host reads (Kraken 2)\",\n",
    "                \"description\": \"Percentage of reads classified as non-host\",\n",
    "                \"scale\": False,\n",
    "                \"format\": \"{:.2f}\",\n",
    "            },\n",
    "        },\n",
    "        pconfig={\n",
    "            \"id\": \"summary_assembly_metrics\",\n",
    "            \"title\": \"Summary Assembly Metrics\",\n",
    "            \"description\": \"Summary of input reads, trimmed reads, and non-host reads.\",\n",
    "        },\n",
    "    ),\n",
    "    name=\"Summary Assembly Metrics\",\n",
    "    anchor=\"summary_assembly\",\n",
    "    description=\"Summary of input reads, trimmed reads, and non-host reads.\",\n",
    ")"
   ]
  },
  {
   "cell_type": "code",
   "execution_count": 9,
   "id": "0314fbdc-52d1-4bd6-b46b-1427268c3f7b",
   "metadata": {
    "ExecuteTime": {
     "end_time": "2024-04-25T14:56:50.660765Z",
     "start_time": "2024-04-25T14:56:49.596660Z"
    }
   },
   "outputs": [
    {
     "name": "stdout",
     "output_type": "stream",
     "text": [
      "/// https://multiqc.info 🔍 | v1.22.dev0 (8f3e39a)\n",
      "\u001B[32m[2024-04-25 16:56:49]\u001B[0m \u001B[34mmultiqc.core.init_config                          \u001B[0m \u001B[1;30m[DEBUG  ]\u001B[0m  \u001B[2mThis is MultiQC v1.22.dev0 (8f3e39a)\u001B[0m\n",
      "\u001B[32m[2024-04-25 16:56:49]\u001B[0m \u001B[34mmultiqc.core.init_config                          \u001B[0m \u001B[1;30m[DEBUG  ]\u001B[0m  \u001B[2mCommand used: /Users/vlad/git/MultiQC/venv/lib/python3.12/site-packages/ipykernel_launcher.py -f /Users/vlad/Library/Jupyter/runtime/kernel-9368ebf4-92b2-4596-a56b-bf9595eed86a.json\u001B[0m\n",
      "\u001B[32m[2024-04-25 16:56:49]\u001B[0m \u001B[34mmultiqc.core.init_config                          \u001B[0m \u001B[1;30m[DEBUG  ]\u001B[0m  \u001B[2mLatest MultiQC version is v1.21, released 2024-02-28\u001B[0m\n",
      "\u001B[32m[2024-04-25 16:56:49]\u001B[0m \u001B[34mmultiqc.core.init_config                          \u001B[0m \u001B[1;30m[INFO   ]\u001B[0m  Using log filenames for sample names\n",
      "\u001B[32m[2024-04-25 16:56:49]\u001B[0m \u001B[34mmultiqc.core.init_config                          \u001B[0m \u001B[1;30m[DEBUG  ]\u001B[0m  \u001B[2mWorking dir : /Users/vlad/git/MultiQC/notebooks\u001B[0m\n",
      "\u001B[32m[2024-04-25 16:56:49]\u001B[0m \u001B[34mmultiqc.core.init_config                          \u001B[0m \u001B[1;30m[DEBUG  ]\u001B[0m  \u001B[2mTemplate    : default\u001B[0m\n",
      "\u001B[32m[2024-04-25 16:56:49]\u001B[0m \u001B[34mmultiqc.core.init_config                          \u001B[0m \u001B[1;30m[DEBUG  ]\u001B[0m  \u001B[2mRunning Python 3.12.2 (main, Feb  6 2024, 20:19:44) [Clang 15.0.0 (clang-1500.1.0.2.5)]\u001B[0m\n",
      "\u001B[32m[2024-04-25 16:56:49]\u001B[0m \u001B[34mmultiqc.utils.report                              \u001B[0m \u001B[1;30m[DEBUG  ]\u001B[0m  \u001B[2mWrote data file multiqc_software_versions.txt\u001B[0m\n",
      "\u001B[32m[2024-04-25 16:56:49]\u001B[0m \u001B[34mmultiqc.utils.report                              \u001B[0m \u001B[1;30m[DEBUG  ]\u001B[0m  \u001B[2mWrote data file cutadapt_filtered_reads_plot.txt\u001B[0m\n",
      "\u001B[32m[2024-04-25 16:56:49]\u001B[0m \u001B[34mmultiqc.utils.report                              \u001B[0m \u001B[1;30m[DEBUG  ]\u001B[0m  \u001B[2mWrote data file cutadapt_trimmed_sequences_plot_default_Counts.txt\u001B[0m\n",
      "\u001B[32m[2024-04-25 16:56:49]\u001B[0m \u001B[34mmultiqc.utils.report                              \u001B[0m \u001B[1;30m[DEBUG  ]\u001B[0m  \u001B[2mWrote data file cutadapt_trimmed_sequences_plot_default_Obs_Exp.txt\u001B[0m\n",
      "\u001B[32m[2024-04-25 16:56:49]\u001B[0m \u001B[34mmultiqc.utils.report                              \u001B[0m \u001B[1;30m[DEBUG  ]\u001B[0m  \u001B[2mWrote data file fastp_filtered_reads_plot.txt\u001B[0m\n",
      "\u001B[32m[2024-04-25 16:56:49]\u001B[0m \u001B[34mmultiqc.utils.report                              \u001B[0m \u001B[1;30m[DEBUG  ]\u001B[0m  \u001B[2mWrote data file fastp-insert-size-plot.txt\u001B[0m\n",
      "\u001B[32m[2024-04-25 16:56:49]\u001B[0m \u001B[34mmultiqc.utils.report                              \u001B[0m \u001B[1;30m[DEBUG  ]\u001B[0m  \u001B[2mWrote data file fastp-seq-quality-plot_Read_1_Before_filtering.txt\u001B[0m\n",
      "\u001B[32m[2024-04-25 16:56:49]\u001B[0m \u001B[34mmultiqc.utils.report                              \u001B[0m \u001B[1;30m[DEBUG  ]\u001B[0m  \u001B[2mWrote data file fastp-seq-quality-plot_Read_1_After_filtering.txt\u001B[0m\n",
      "\u001B[32m[2024-04-25 16:56:49]\u001B[0m \u001B[34mmultiqc.utils.report                              \u001B[0m \u001B[1;30m[DEBUG  ]\u001B[0m  \u001B[2mWrote data file fastp-seq-quality-plot_Read_2_Before_filtering.txt\u001B[0m\n",
      "\u001B[32m[2024-04-25 16:56:49]\u001B[0m \u001B[34mmultiqc.utils.report                              \u001B[0m \u001B[1;30m[DEBUG  ]\u001B[0m  \u001B[2mWrote data file fastp-seq-quality-plot_Read_2_After_filtering.txt\u001B[0m\n",
      "\u001B[32m[2024-04-25 16:56:49]\u001B[0m \u001B[34mmultiqc.utils.report                              \u001B[0m \u001B[1;30m[DEBUG  ]\u001B[0m  \u001B[2mWrote data file fastp-seq-content-gc-plot_Read_1_Before_filtering.txt\u001B[0m\n",
      "\u001B[32m[2024-04-25 16:56:49]\u001B[0m \u001B[34mmultiqc.utils.report                              \u001B[0m \u001B[1;30m[DEBUG  ]\u001B[0m  \u001B[2mWrote data file fastp-seq-content-gc-plot_Read_1_After_filtering.txt\u001B[0m\n",
      "\u001B[32m[2024-04-25 16:56:49]\u001B[0m \u001B[34mmultiqc.utils.report                              \u001B[0m \u001B[1;30m[DEBUG  ]\u001B[0m  \u001B[2mWrote data file fastp-seq-content-gc-plot_Read_2_Before_filtering.txt\u001B[0m\n",
      "\u001B[32m[2024-04-25 16:56:49]\u001B[0m \u001B[34mmultiqc.utils.report                              \u001B[0m \u001B[1;30m[DEBUG  ]\u001B[0m  \u001B[2mWrote data file fastp-seq-content-gc-plot_Read_2_After_filtering.txt\u001B[0m\n",
      "\u001B[32m[2024-04-25 16:56:49]\u001B[0m \u001B[34mmultiqc.utils.report                              \u001B[0m \u001B[1;30m[DEBUG  ]\u001B[0m  \u001B[2mWrote data file fastp-seq-content-n-plot_Read_1_Before_filtering.txt\u001B[0m\n",
      "\u001B[32m[2024-04-25 16:56:49]\u001B[0m \u001B[34mmultiqc.utils.report                              \u001B[0m \u001B[1;30m[DEBUG  ]\u001B[0m  \u001B[2mWrote data file fastp-seq-content-n-plot_Read_1_After_filtering.txt\u001B[0m\n",
      "\u001B[32m[2024-04-25 16:56:49]\u001B[0m \u001B[34mmultiqc.utils.report                              \u001B[0m \u001B[1;30m[DEBUG  ]\u001B[0m  \u001B[2mWrote data file fastp-seq-content-n-plot_Read_2_Before_filtering.txt\u001B[0m\n",
      "\u001B[32m[2024-04-25 16:56:49]\u001B[0m \u001B[34mmultiqc.utils.report                              \u001B[0m \u001B[1;30m[DEBUG  ]\u001B[0m  \u001B[2mWrote data file fastp-seq-content-n-plot_Read_2_After_filtering.txt\u001B[0m\n",
      "\u001B[32m[2024-04-25 16:56:49]\u001B[0m \u001B[34mmultiqc.utils.report                              \u001B[0m \u001B[1;30m[DEBUG  ]\u001B[0m  \u001B[2mWrote data file fastqc_sequence_counts_plot.txt\u001B[0m\n",
      "\u001B[32m[2024-04-25 16:56:49]\u001B[0m \u001B[34mmultiqc.utils.report                              \u001B[0m \u001B[1;30m[DEBUG  ]\u001B[0m  \u001B[2mWrote data file fastqc_per_base_sequence_quality_plot.txt\u001B[0m\n",
      "\u001B[32m[2024-04-25 16:56:49]\u001B[0m \u001B[34mmultiqc.utils.report                              \u001B[0m \u001B[1;30m[DEBUG  ]\u001B[0m  \u001B[2mWrote data file fastqc_per_sequence_quality_scores_plot.txt\u001B[0m\n",
      "\u001B[32m[2024-04-25 16:56:49]\u001B[0m \u001B[34mmultiqc.utils.report                              \u001B[0m \u001B[1;30m[DEBUG  ]\u001B[0m  \u001B[2mWrote data file fastqc_per_sequence_gc_content_plot_Percentages.txt\u001B[0m\n",
      "\u001B[32m[2024-04-25 16:56:49]\u001B[0m \u001B[34mmultiqc.utils.report                              \u001B[0m \u001B[1;30m[DEBUG  ]\u001B[0m  \u001B[2mWrote data file fastqc_per_sequence_gc_content_plot_Counts.txt\u001B[0m\n",
      "\u001B[32m[2024-04-25 16:56:49]\u001B[0m \u001B[34mmultiqc.utils.report                              \u001B[0m \u001B[1;30m[DEBUG  ]\u001B[0m  \u001B[2mWrote data file fastqc_per_base_n_content_plot.txt\u001B[0m\n",
      "\u001B[32m[2024-04-25 16:56:49]\u001B[0m \u001B[34mmultiqc.utils.report                              \u001B[0m \u001B[1;30m[DEBUG  ]\u001B[0m  \u001B[2mWrote data file fastqc_sequence_length_distribution_plot.txt\u001B[0m\n",
      "\u001B[32m[2024-04-25 16:56:49]\u001B[0m \u001B[34mmultiqc.utils.report                              \u001B[0m \u001B[1;30m[DEBUG  ]\u001B[0m  \u001B[2mWrote data file fastqc_sequence_duplication_levels_plot.txt\u001B[0m\n",
      "\u001B[32m[2024-04-25 16:56:49]\u001B[0m \u001B[34mmultiqc.utils.report                              \u001B[0m \u001B[1;30m[DEBUG  ]\u001B[0m  \u001B[2mWrote data file fastqc_overrepresented_sequences_plot.txt\u001B[0m\n",
      "\u001B[32m[2024-04-25 16:56:49]\u001B[0m \u001B[34mmultiqc.utils.report                              \u001B[0m \u001B[1;30m[DEBUG  ]\u001B[0m  \u001B[2mWrote data file fastqc_top_overrepresented_sequences_table.txt\u001B[0m\n",
      "\u001B[32m[2024-04-25 16:56:49]\u001B[0m \u001B[34mmultiqc.utils.report                              \u001B[0m \u001B[1;30m[DEBUG  ]\u001B[0m  \u001B[2mWrote data file fastqc-status-check-heatmap.txt\u001B[0m\n",
      "\u001B[32m[2024-04-25 16:56:49]\u001B[0m \u001B[34mmultiqc.utils.report                              \u001B[0m \u001B[1;30m[DEBUG  ]\u001B[0m  \u001B[2mWrote data file fastqc_sequence_counts_plot-1.txt\u001B[0m\n",
      "\u001B[32m[2024-04-25 16:56:49]\u001B[0m \u001B[34mmultiqc.utils.report                              \u001B[0m \u001B[1;30m[DEBUG  ]\u001B[0m  \u001B[2mWrote data file fastqc_per_base_sequence_quality_plot-1.txt\u001B[0m\n",
      "\u001B[32m[2024-04-25 16:56:49]\u001B[0m \u001B[34mmultiqc.utils.report                              \u001B[0m \u001B[1;30m[DEBUG  ]\u001B[0m  \u001B[2mWrote data file fastqc_per_sequence_quality_scores_plot-1.txt\u001B[0m\n",
      "\u001B[32m[2024-04-25 16:56:49]\u001B[0m \u001B[34mmultiqc.utils.report                              \u001B[0m \u001B[1;30m[DEBUG  ]\u001B[0m  \u001B[2mWrote data file fastqc_per_sequence_gc_content_plot-1_Percentages.txt\u001B[0m\n",
      "\u001B[32m[2024-04-25 16:56:49]\u001B[0m \u001B[34mmultiqc.utils.report                              \u001B[0m \u001B[1;30m[DEBUG  ]\u001B[0m  \u001B[2mWrote data file fastqc_per_sequence_gc_content_plot-1_Counts.txt\u001B[0m\n",
      "\u001B[32m[2024-04-25 16:56:49]\u001B[0m \u001B[34mmultiqc.utils.report                              \u001B[0m \u001B[1;30m[DEBUG  ]\u001B[0m  \u001B[2mWrote data file fastqc_per_base_n_content_plot-1.txt\u001B[0m\n",
      "\u001B[32m[2024-04-25 16:56:49]\u001B[0m \u001B[34mmultiqc.utils.report                              \u001B[0m \u001B[1;30m[DEBUG  ]\u001B[0m  \u001B[2mWrote data file fastqc_sequence_length_distribution_plot-1.txt\u001B[0m\n",
      "\u001B[32m[2024-04-25 16:56:49]\u001B[0m \u001B[34mmultiqc.utils.report                              \u001B[0m \u001B[1;30m[DEBUG  ]\u001B[0m  \u001B[2mWrote data file fastqc_sequence_duplication_levels_plot-1.txt\u001B[0m\n",
      "\u001B[32m[2024-04-25 16:56:49]\u001B[0m \u001B[34mmultiqc.utils.report                              \u001B[0m \u001B[1;30m[DEBUG  ]\u001B[0m  \u001B[2mWrote data file fastqc_overrepresented_sequences_plot-1.txt\u001B[0m\n",
      "\u001B[32m[2024-04-25 16:56:49]\u001B[0m \u001B[34mmultiqc.utils.report                              \u001B[0m \u001B[1;30m[DEBUG  ]\u001B[0m  \u001B[2mWrote data file fastqc_top_overrepresented_sequences_table-1.txt\u001B[0m\n",
      "\u001B[32m[2024-04-25 16:56:49]\u001B[0m \u001B[34mmultiqc.utils.report                              \u001B[0m \u001B[1;30m[DEBUG  ]\u001B[0m  \u001B[2mWrote data file fastqc-status-check-heatmap-1.txt\u001B[0m\n",
      "\u001B[32m[2024-04-25 16:56:49]\u001B[0m \u001B[34mmultiqc.utils.report                              \u001B[0m \u001B[1;30m[DEBUG  ]\u001B[0m  \u001B[2mWrote data file kraken-top-n-plot_Genus.txt\u001B[0m\n",
      "\u001B[32m[2024-04-25 16:56:49]\u001B[0m \u001B[34mmultiqc.utils.report                              \u001B[0m \u001B[1;30m[DEBUG  ]\u001B[0m  \u001B[2mWrote data file kraken-top-n-plot_Family.txt\u001B[0m\n",
      "\u001B[32m[2024-04-25 16:56:49]\u001B[0m \u001B[34mmultiqc.utils.report                              \u001B[0m \u001B[1;30m[DEBUG  ]\u001B[0m  \u001B[2mWrote data file kraken-top-n-plot_Order.txt\u001B[0m\n",
      "\u001B[32m[2024-04-25 16:56:49]\u001B[0m \u001B[34mmultiqc.utils.report                              \u001B[0m \u001B[1;30m[DEBUG  ]\u001B[0m  \u001B[2mWrote data file kraken-top-n-plot_Class.txt\u001B[0m\n",
      "\u001B[32m[2024-04-25 16:56:49]\u001B[0m \u001B[34mmultiqc.utils.report                              \u001B[0m \u001B[1;30m[DEBUG  ]\u001B[0m  \u001B[2mWrote data file kraken-top-n-plot_Phylum.txt\u001B[0m\n",
      "\u001B[32m[2024-04-25 16:56:49]\u001B[0m \u001B[34mmultiqc.utils.report                              \u001B[0m \u001B[1;30m[DEBUG  ]\u001B[0m  \u001B[2mWrote data file kraken-top-n-plot_Domain.txt\u001B[0m\n",
      "\u001B[32m[2024-04-25 16:56:49]\u001B[0m \u001B[34mmultiqc.utils.report                              \u001B[0m \u001B[1;30m[DEBUG  ]\u001B[0m  \u001B[2mWrote data file kraken-top-n-plot_Root.txt\u001B[0m\n",
      "\u001B[32m[2024-04-25 16:56:49]\u001B[0m \u001B[34mmultiqc.utils.report                              \u001B[0m \u001B[1;30m[DEBUG  ]\u001B[0m  \u001B[2mWrote data file kraken-top-n-plot_Unclassified.txt\u001B[0m\n",
      "\u001B[32m[2024-04-25 16:56:49]\u001B[0m \u001B[34mmultiqc.utils.report                              \u001B[0m \u001B[1;30m[DEBUG  ]\u001B[0m  \u001B[2mWrote data file multiqc_general_stats.txt\u001B[0m\n",
      "\u001B[32m[2024-04-25 16:56:49]\u001B[0m \u001B[34mmultiqc.core.write_results                        \u001B[0m \u001B[1;30m[DEBUG  ]\u001B[0m  \u001B[2mMoving data file from '/var/folders/zn/9rrn2wv97lncdpqrp79p5rpm0000gn/T/tmpkyypuntd/multiqc_data' to '/Users/vlad/git/MultiQC/notebooks/multiqc_data'\u001B[0m\n",
      "\u001B[32m[2024-04-25 16:56:50]\u001B[0m \u001B[34mmultiqc.utils.report                              \u001B[0m \u001B[1;30m[DEBUG  ]\u001B[0m  \u001B[2mWrote data file multiqc_data.json\u001B[0m\n",
      "\u001B[32m[2024-04-25 16:56:50]\u001B[0m \u001B[34mmultiqc.core.write_results                        \u001B[0m \u001B[1;30m[INFO   ]\u001B[0m  Data        : multiqc_data   (overwritten)\n",
      "\u001B[32m[2024-04-25 16:56:50]\u001B[0m \u001B[34mmultiqc.core.write_results                        \u001B[0m \u001B[1;30m[DEBUG  ]\u001B[0m  \u001B[2mCompressing plot data\u001B[0m\n",
      "\u001B[32m[2024-04-25 16:56:50]\u001B[0m \u001B[34mmultiqc.core.write_results                        \u001B[0m \u001B[1;30m[INFO   ]\u001B[0m  Report      : multiqc_report.html   (overwritten)\n",
      "\u001B[32m[2024-04-25 16:56:50]\u001B[0m \u001B[34mmultiqc.core.write_results                        \u001B[0m \u001B[1;30m[DEBUG  ]\u001B[0m  \u001B[2mFull report path: /Users/vlad/git/MultiQC/notebooks/multiqc_report.html\u001B[0m\n"
     ]
    }
   ],
   "source": [
    "# Now generate report from the loaded data + summarized_data\n",
    "multiqc.write_report(\n",
    "    excluded_modules=[\"general_stats\"],\n",
    "    force=True,\n",
    "    verbose=True\n",
    ")"
   ]
  },
  {
   "cell_type": "code",
   "execution_count": 10,
   "outputs": [
    {
     "data": {
      "text/plain": "['cutadapt_filtered_reads_plot',\n 'cutadapt_trimmed_sequences_plot_default (2 datasets)',\n 'fastp_filtered_reads_plot',\n 'fastp-insert-size-plot',\n 'fastp-seq-quality-plot (4 datasets)',\n 'fastp-seq-content-gc-plot (4 datasets)',\n 'fastp-seq-content-n-plot (4 datasets)',\n 'fastqc_sequence_counts_plot',\n 'fastqc_per_base_sequence_quality_plot',\n 'fastqc_per_sequence_quality_scores_plot',\n 'fastqc_per_sequence_gc_content_plot (2 datasets)',\n 'fastqc_per_base_n_content_plot',\n 'fastqc_sequence_length_distribution_plot',\n 'fastqc_sequence_duplication_levels_plot',\n 'fastqc_overrepresented_sequences_plot',\n 'fastqc_top_overrepresented_sequences_table',\n 'fastqc-status-check-heatmap',\n 'fastqc_sequence_counts_plot-1',\n 'fastqc_per_base_sequence_quality_plot-1',\n 'fastqc_per_sequence_quality_scores_plot-1',\n 'fastqc_per_sequence_gc_content_plot-1 (2 datasets)',\n 'fastqc_per_base_n_content_plot-1',\n 'fastqc_sequence_length_distribution_plot-1',\n 'fastqc_sequence_duplication_levels_plot-1',\n 'fastqc_overrepresented_sequences_plot-1',\n 'fastqc_top_overrepresented_sequences_table-1',\n 'fastqc-status-check-heatmap-1',\n 'kraken-top-n-plot (8 datasets)',\n 'general_stats_table']"
     },
     "execution_count": 10,
     "metadata": {},
     "output_type": "execute_result"
    }
   ],
   "source": [
    "multiqc.list_plots()"
   ],
   "metadata": {
    "collapsed": false,
    "ExecuteTime": {
     "end_time": "2024-04-25T14:57:10.420143Z",
     "start_time": "2024-04-25T14:57:10.416475Z"
    }
   },
   "id": "df629f9b981760fd"
  },
  {
   "cell_type": "code",
   "execution_count": 11,
   "outputs": [
    {
     "ename": "KeyError",
     "evalue": "'summary_assembly_metrics'",
     "output_type": "error",
     "traceback": [
      "\u001B[0;31m---------------------------------------------------------------------------\u001B[0m",
      "\u001B[0;31mKeyError\u001B[0m                                  Traceback (most recent call last)",
      "Cell \u001B[0;32mIn[11], line 1\u001B[0m\n\u001B[0;32m----> 1\u001B[0m \u001B[43mmultiqc\u001B[49m\u001B[38;5;241;43m.\u001B[39;49m\u001B[43mshow_plot\u001B[49m\u001B[43m(\u001B[49m\u001B[38;5;124;43m\"\u001B[39;49m\u001B[38;5;124;43msummary_assembly_metrics\u001B[39;49m\u001B[38;5;124;43m\"\u001B[39;49m\u001B[43m)\u001B[49m\n",
      "File \u001B[0;32m~/git/MultiQC/multiqc/multiqc.py:580\u001B[0m, in \u001B[0;36mshow_plot\u001B[0;34m(plot_id, dataset_id, **kwargs)\u001B[0m\n\u001B[1;32m    576\u001B[0m \u001B[38;5;28;01mdef\u001B[39;00m \u001B[38;5;21mshow_plot\u001B[39m(plot_id: \u001B[38;5;28mstr\u001B[39m, dataset_id\u001B[38;5;241m=\u001B[39m\u001B[38;5;241m0\u001B[39m, \u001B[38;5;241m*\u001B[39m\u001B[38;5;241m*\u001B[39mkwargs) \u001B[38;5;241m-\u001B[39m\u001B[38;5;241m>\u001B[39m go\u001B[38;5;241m.\u001B[39mFigure:\n\u001B[1;32m    577\u001B[0m \u001B[38;5;250m    \u001B[39m\u001B[38;5;124;03m\"\"\"\u001B[39;00m\n\u001B[1;32m    578\u001B[0m \u001B[38;5;124;03m    Show a plot in the notebook.\u001B[39;00m\n\u001B[1;32m    579\u001B[0m \u001B[38;5;124;03m    \"\"\"\u001B[39;00m\n\u001B[0;32m--> 580\u001B[0m     dump \u001B[38;5;241m=\u001B[39m \u001B[43mreport\u001B[49m\u001B[38;5;241;43m.\u001B[39;49m\u001B[43mplot_data\u001B[49m\u001B[43m[\u001B[49m\u001B[43mplot_id\u001B[49m\u001B[43m]\u001B[49m\n\u001B[1;32m    581\u001B[0m     model \u001B[38;5;241m=\u001B[39m _load_plot(dump)\n\u001B[1;32m    582\u001B[0m     \u001B[38;5;28;01mreturn\u001B[39;00m model\u001B[38;5;241m.\u001B[39mshow(dataset_id\u001B[38;5;241m=\u001B[39mdataset_id, \u001B[38;5;241m*\u001B[39m\u001B[38;5;241m*\u001B[39mkwargs)\n",
      "\u001B[0;31mKeyError\u001B[0m: 'summary_assembly_metrics'"
     ]
    }
   ],
   "source": [
    "multiqc.show_plot(\"summary_assembly_metrics\")"
   ],
   "metadata": {
    "collapsed": false,
    "ExecuteTime": {
     "end_time": "2024-04-25T14:57:13.188763Z",
     "start_time": "2024-04-25T14:57:12.998548Z"
    }
   },
   "id": "4c46ab082d944904"
  },
  {
   "cell_type": "code",
   "execution_count": null,
   "outputs": [],
   "source": [],
   "metadata": {
    "collapsed": false
   },
   "id": "a543313c91e64541"
  }
 ],
 "metadata": {
  "kernelspec": {
   "display_name": "Python 3 (ipykernel)",
   "language": "python",
   "name": "python3"
  },
  "language_info": {
   "codemirror_mode": {
    "name": "ipython",
    "version": 3
   },
   "file_extension": ".py",
   "mimetype": "text/x-python",
   "name": "python",
   "nbconvert_exporter": "python",
   "pygments_lexer": "ipython3",
   "version": "3.12.2"
  }
 },
 "nbformat": 4,
 "nbformat_minor": 5
}
